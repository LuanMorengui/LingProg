{
 "cells": [
  {
   "cell_type": "markdown",
   "metadata": {},
   "source": [
    "### 1-) Defina a função soma_nat que recebe como argumento um número natural  n e devolve a soma de todos os números naturais até  n."
   ]
  },
  {
   "cell_type": "code",
   "execution_count": 2,
   "metadata": {},
   "outputs": [],
   "source": [
    "#funcao\n",
    "def soma_nat(n):\n",
    "    val = 0\n",
    "    if n == 0:\n",
    "        return 0\n",
    "    else:\n",
    "        for i in range(n+1):\n",
    "            val = val + i\n",
    "        return val\n",
    "    \n",
    "def soma_nat_rec(n):\n",
    "\n",
    "    return 0 if n == 0 else n+soma_nat_rec(n-1)\n"
   ]
  },
  {
   "cell_type": "markdown",
   "metadata": {},
   "source": [
    "### 2-) Defina a função prod_lista que recebe como argumento uma lista de inteiros e devolve o produto dos seus elementos."
   ]
  },
  {
   "cell_type": "code",
   "execution_count": 15,
   "metadata": {
    "scrolled": true
   },
   "outputs": [],
   "source": [
    "#funcao\n",
    "def prod_lista(lista):\n",
    "    result = 1\n",
    "    for numero in lista:\n",
    "        result *= numero\n",
    "    return result\n",
    "\n",
    "def prod_lista_rec(lista):\n",
    "        return lista[len(lista)-1] * prod_lista_rec(lista[:-1]) if len(lista) > 0 else 1"
   ]
  },
  {
   "cell_type": "code",
   "execution_count": 16,
   "metadata": {},
   "outputs": [
    {
     "data": {
      "text/plain": [
       "720"
      ]
     },
     "execution_count": 16,
     "metadata": {},
     "output_type": "execute_result"
    }
   ],
   "source": [
    "prod_lista_rec([1,2,3,4,5,6])"
   ]
  },
  {
   "cell_type": "markdown",
   "metadata": {},
   "source": [
    "### 3-) Defina a função contem_parQ que recebe como argumento uma lista de números inteiros  w e devolve True se w contém um número par e False em caso contrário."
   ]
  },
  {
   "cell_type": "code",
   "execution_count": 17,
   "metadata": {},
   "outputs": [],
   "source": [
    "#funcao\n",
    "def verifica_par(lista):\n",
    "    return True if len(lista)> 0 and (lista[len(lista)-1] % 2 == 0 or verifica_par(lista[:-1])) else False\n"
   ]
  },
  {
   "cell_type": "markdown",
   "metadata": {},
   "source": [
    "### 4-) Defina a função todos_imparesQ que recebe como argumento uma lista de números inteiros w e devolve True se  w contém apenas números ímpares e False em caso contrário."
   ]
  },
  {
   "cell_type": "code",
   "execution_count": 5,
   "metadata": {},
   "outputs": [],
   "source": [
    "#Funcao\n",
    "def todos_imparesQ(lista):\n",
    "    retorno = False\n",
    "    for i in lista:\n",
    "        \n",
    "        if i%2 > 0:\n",
    "            retorno = True\n",
    "        else:\n",
    "            retorno = False\n",
    "            break\n",
    "    return retorno\n"
   ]
  },
  {
   "cell_type": "markdown",
   "metadata": {},
   "source": [
    "### 5-) Defina a função inverteLista que recebe como argumento uma lista  w e devolve a mesma lista mas invertida."
   ]
  },
  {
   "cell_type": "code",
   "execution_count": 18,
   "metadata": {},
   "outputs": [
    {
     "data": {
      "text/plain": [
       "[5, 4, 3, 2, 1]"
      ]
     },
     "execution_count": 18,
     "metadata": {},
     "output_type": "execute_result"
    }
   ],
   "source": [
    "#funcao\n",
    "inverte = lambda lista: (inverte(lista[1:]) + lista[:1] if lista else [])\n",
    "\n",
    "inverte([1,2,3,4,5])\n"
   ]
  },
  {
   "cell_type": "code",
   "execution_count": null,
   "metadata": {},
   "outputs": [],
   "source": [
    "\n"
   ]
  }
 ],
 "metadata": {
  "kernelspec": {
   "display_name": "Python 3",
   "language": "python",
   "name": "python3"
  },
  "language_info": {
   "codemirror_mode": {
    "name": "ipython",
    "version": 3
   },
   "file_extension": ".py",
   "mimetype": "text/x-python",
   "name": "python",
   "nbconvert_exporter": "python",
   "pygments_lexer": "ipython3",
   "version": "3.6.4"
  }
 },
 "nbformat": 4,
 "nbformat_minor": 2
}
